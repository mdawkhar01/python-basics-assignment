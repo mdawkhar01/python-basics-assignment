{
  "nbformat": 4,
  "nbformat_minor": 0,
  "metadata": {
    "colab": {
      "provenance": []
    },
    "kernelspec": {
      "name": "python3",
      "display_name": "Python 3"
    },
    "language_info": {
      "name": "python"
    }
  },
  "cells": [
    {
      "cell_type": "markdown",
      "source": [
        "1. Explain the key features of Python that make it a popular choice for programming\n",
        "- versatality\n",
        "- Simplicity\n",
        "- Good ecosystem of libraries\n"
      ],
      "metadata": {
        "id": "M9wodrabPmgc"
      }
    },
    {
      "cell_type": "code",
      "source": [
        "# 2 Describe the role of predefined keywords in Python and provide examples of how they are used in a program.\n",
        "'''\n",
        " Keywords are reserved words in python that have special meaning and cannot be used as identifiers (variable names, function meaning etc)\n",
        "eg. if, else, for, def, class, import, try, expect, return, true,false, none, etc.\n",
        "'''\n",
        "Weather = \"sunny\"\n",
        "if Weather == \"sunny\":\n",
        "  print(\"wear shorts\")\n",
        "else:\n",
        "  print(\"wear pants\")"
      ],
      "metadata": {
        "colab": {
          "base_uri": "https://localhost:8080/"
        },
        "id": "mwpT8bJaPK6t",
        "outputId": "addb60b3-3ba3-43e9-dfd6-301cdceb658b"
      },
      "execution_count": 15,
      "outputs": [
        {
          "output_type": "stream",
          "name": "stdout",
          "text": [
            "wear shorts\n"
          ]
        }
      ]
    },
    {
      "cell_type": "markdown",
      "source": [
        "3. Compare and contrast mutable and immutable objects in Python with examples .\n",
        "\n",
        "   - In python changable objects are called mutable, and non changable are called immutable objects. examples of mutable are listt and dictionaries, it can be modified after creation. Immutable objects are tuples and string. -\n"
      ],
      "metadata": {
        "id": "YBw81fJsPfPw"
      }
    },
    {
      "cell_type": "code",
      "source": [
        "#Example of mutable\n",
        "my_list=[1,2,3]\n",
        "my_list[0]=100\n",
        "print(my_list)"
      ],
      "metadata": {
        "colab": {
          "base_uri": "https://localhost:8080/"
        },
        "id": "UkTlIrKnRiHX",
        "outputId": "d2d808c2-f154-4bc7-bb99-8acda5fce973"
      },
      "execution_count": 21,
      "outputs": [
        {
          "output_type": "stream",
          "name": "stdout",
          "text": [
            "[100, 2, 3]\n"
          ]
        }
      ]
    },
    {
      "cell_type": "code",
      "source": [
        "#example of immutable\n",
        "my_string=\"madhu\"\n",
        "my_string[0]=\"n\" #it will throw error"
      ],
      "metadata": {
        "colab": {
          "base_uri": "https://localhost:8080/",
          "height": 176
        },
        "id": "mG-G6YV_SAKg",
        "outputId": "ab741c2d-92f2-429e-e4c0-a51d66f49cdd"
      },
      "execution_count": 22,
      "outputs": [
        {
          "output_type": "error",
          "ename": "TypeError",
          "evalue": "'str' object does not support item assignment",
          "traceback": [
            "\u001b[0;31m---------------------------------------------------------------------------\u001b[0m",
            "\u001b[0;31mTypeError\u001b[0m                                 Traceback (most recent call last)",
            "\u001b[0;32m<ipython-input-22-bc1147c8ba84>\u001b[0m in \u001b[0;36m<cell line: 0>\u001b[0;34m()\u001b[0m\n\u001b[1;32m      1\u001b[0m \u001b[0;31m#example of immutable\u001b[0m\u001b[0;34m\u001b[0m\u001b[0;34m\u001b[0m\u001b[0m\n\u001b[1;32m      2\u001b[0m \u001b[0mmy_string\u001b[0m\u001b[0;34m=\u001b[0m\u001b[0;34m\"madhu\"\u001b[0m\u001b[0;34m\u001b[0m\u001b[0;34m\u001b[0m\u001b[0m\n\u001b[0;32m----> 3\u001b[0;31m \u001b[0mmy_string\u001b[0m\u001b[0;34m[\u001b[0m\u001b[0;36m0\u001b[0m\u001b[0;34m]\u001b[0m\u001b[0;34m=\u001b[0m\u001b[0;34m\"n\"\u001b[0m\u001b[0;34m\u001b[0m\u001b[0;34m\u001b[0m\u001b[0m\n\u001b[0m",
            "\u001b[0;31mTypeError\u001b[0m: 'str' object does not support item assignment"
          ]
        }
      ]
    },
    {
      "cell_type": "markdown",
      "source": [
        "4. Discuss the different types of operators in Python and provide examples of how they are used"
      ],
      "metadata": {
        "id": "blXAWvgLUD1r"
      }
    },
    {
      "cell_type": "code",
      "source": [
        "# Arithmatic operator. Example\n",
        "a=5\n",
        "b=2\n",
        "print(a+b)\n",
        "print(a-b)\n",
        "print(a*b)\n",
        "print(a/b)"
      ],
      "metadata": {
        "colab": {
          "base_uri": "https://localhost:8080/"
        },
        "id": "iVPJNftiUkxs",
        "outputId": "24896e1f-f97d-4216-e788-7b2fc5bed39a"
      },
      "execution_count": 26,
      "outputs": [
        {
          "output_type": "stream",
          "name": "stdout",
          "text": [
            "7\n",
            "3\n",
            "10\n",
            "2.5\n"
          ]
        }
      ]
    },
    {
      "cell_type": "code",
      "source": [
        "# Comparison operators\n",
        "a=5\n",
        "b=2\n",
        "print(a==b)\n",
        "print(a!=b)\n",
        "print(a>b)\n",
        "print(a<b)"
      ],
      "metadata": {
        "colab": {
          "base_uri": "https://localhost:8080/"
        },
        "id": "r8z7hgM7U5df",
        "outputId": "5f15d92b-bb1e-43ed-8fbc-0a76d5e398e6"
      },
      "execution_count": 27,
      "outputs": [
        {
          "output_type": "stream",
          "name": "stdout",
          "text": [
            "False\n",
            "True\n",
            "True\n",
            "False\n"
          ]
        }
      ]
    },
    {
      "cell_type": "code",
      "source": [
        "# logical operators\n",
        "a=True\n",
        "b=False\n",
        "print(a and b)\n",
        "print(a or b)\n",
        "print(not a)"
      ],
      "metadata": {
        "colab": {
          "base_uri": "https://localhost:8080/"
        },
        "id": "Ll786blKV3Sb",
        "outputId": "50e61bb8-1836-4996-a362-7e3c2b219cfa"
      },
      "execution_count": 28,
      "outputs": [
        {
          "output_type": "stream",
          "name": "stdout",
          "text": [
            "False\n",
            "True\n",
            "False\n"
          ]
        }
      ]
    },
    {
      "cell_type": "markdown",
      "source": [
        "5. Explain the concept of type casting in Python with examples\n",
        "       - The process of changing the data type of a value.\n",
        "      "
      ],
      "metadata": {
        "id": "wiZhP4n4WolW"
      }
    },
    {
      "cell_type": "code",
      "source": [
        "# Type casting >> Implict and explicit type casting\n",
        "#Implicit typecasting example\n",
        "a=5   #int\n",
        "b=2.5 #float\n",
        "result=a+b\n",
        "print(result)"
      ],
      "metadata": {
        "colab": {
          "base_uri": "https://localhost:8080/"
        },
        "id": "DE6daaNLYDeL",
        "outputId": "29092395-29c7-46b9-bde8-e629a68d6b41"
      },
      "execution_count": 29,
      "outputs": [
        {
          "output_type": "stream",
          "name": "stdout",
          "text": [
            "7.5\n"
          ]
        }
      ]
    },
    {
      "cell_type": "code",
      "source": [
        "#explicit typecasting\n",
        "a=\"123\"\n",
        "b=int(a)\n",
        "print(b)"
      ],
      "metadata": {
        "colab": {
          "base_uri": "https://localhost:8080/"
        },
        "id": "cbjd0GYnYFyn",
        "outputId": "21a675e2-b00b-4b8b-fb81-3ecac1e74fa0"
      },
      "execution_count": 33,
      "outputs": [
        {
          "output_type": "stream",
          "name": "stdout",
          "text": [
            "123\n"
          ]
        }
      ]
    },
    {
      "cell_type": "markdown",
      "source": [
        "\n",
        "6. How do conditional statements work in Python? Illustrate with examples\n",
        "  - Helps you to code decision based on some pre conditions.\n",
        "  * if\n",
        "  * else\n",
        "  * elif\n",
        "\n",
        "  Example"
      ],
      "metadata": {
        "id": "JkWS3DCwaHgK"
      }
    },
    {
      "cell_type": "code",
      "source": [
        "age =20\n",
        "if age>18:\n",
        "  print(\"you are eligible to vote\")\n",
        "else:\n",
        "    print(\"you are not eligible to vote\")"
      ],
      "metadata": {
        "colab": {
          "base_uri": "https://localhost:8080/"
        },
        "id": "sflLtUh8bpSl",
        "outputId": "99349a19-8254-466a-c23a-13f9a6740c35"
      },
      "execution_count": 38,
      "outputs": [
        {
          "output_type": "stream",
          "name": "stdout",
          "text": [
            "you are eligible to vote\n"
          ]
        }
      ]
    },
    {
      "cell_type": "markdown",
      "source": [
        "7. Describe the different types of loops in Python and their use cases with examples\n",
        "   - There are two loops - for loop and while loop\n",
        "\n",
        "   loop is Used to iterate over a sequence.  example"
      ],
      "metadata": {
        "id": "g_ZEcaSpdy_0"
      }
    },
    {
      "cell_type": "code",
      "source": [
        "Fruits = (\"apple\",\" banana\",\" mango\")\n",
        "for fruit in Fruits:\n",
        "  print(fruit)"
      ],
      "metadata": {
        "colab": {
          "base_uri": "https://localhost:8080/"
        },
        "id": "u1R9y-7PeWsr",
        "outputId": "570897f5-a966-4bbd-8eca-ac789e2ab365"
      },
      "execution_count": 39,
      "outputs": [
        {
          "output_type": "stream",
          "name": "stdout",
          "text": [
            "apple\n",
            " banana\n",
            " mango\n"
          ]
        }
      ]
    },
    {
      "cell_type": "code",
      "source": [
        "count=5\n",
        "while count >0:\n",
        "  print(count)\n",
        "  count = count - 1"
      ],
      "metadata": {
        "colab": {
          "base_uri": "https://localhost:8080/"
        },
        "id": "TwUG2VWQfhkx",
        "outputId": "533e00ec-802a-4a6c-e3b9-ae1771bc403c"
      },
      "execution_count": 41,
      "outputs": [
        {
          "output_type": "stream",
          "name": "stdout",
          "text": [
            "5\n",
            "4\n",
            "3\n",
            "2\n",
            "1\n"
          ]
        }
      ]
    },
    {
      "cell_type": "code",
      "source": [],
      "metadata": {
        "id": "qwP92HgFg6nF"
      },
      "execution_count": null,
      "outputs": []
    }
  ]
}