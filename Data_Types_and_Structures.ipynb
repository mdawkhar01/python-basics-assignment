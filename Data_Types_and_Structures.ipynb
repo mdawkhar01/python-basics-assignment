{
  "nbformat": 4,
  "nbformat_minor": 0,
  "metadata": {
    "colab": {
      "provenance": [],
      "authorship_tag": "ABX9TyOo9z0cn9pZjQUGN8FfQhGc",
      "include_colab_link": true
    },
    "kernelspec": {
      "name": "python3",
      "display_name": "Python 3"
    },
    "language_info": {
      "name": "python"
    }
  },
  "cells": [
    {
      "cell_type": "markdown",
      "metadata": {
        "id": "view-in-github",
        "colab_type": "text"
      },
      "source": [
        "<a href=\"https://colab.research.google.com/github/mdawkhar01/python-basics-assignment/blob/main/Data_Types_and_Structures.ipynb\" target=\"_parent\"><img src=\"https://colab.research.google.com/assets/colab-badge.svg\" alt=\"Open In Colab\"/></a>"
      ]
    },
    {
      "cell_type": "markdown",
      "source": [
        "1. What are data structures, and why are they important?\n",
        "→ Data structures are ways of organizing and storing data so that it can be accessed and manipulated efficiently.  They are essential for writing efficient code and solving problems logically.\n",
        "\n",
        "2. Explain the difference between mutable and immutable data types with examples.\n",
        "→ Mutable types can be changed after creation\n",
        "e.g., list, dict, set\n",
        "Immutable types cannot be changed once created\n",
        "e.g., int, str, tuple\n"
      ],
      "metadata": {
        "id": "Fn2H3lSGdSj_"
      }
    },
    {
      "cell_type": "code",
      "source": [
        " # muatable\n",
        " a = [1, 2, 3]\n",
        " a[0] = 10\n",
        "print(a)"
      ],
      "metadata": {
        "colab": {
          "base_uri": "https://localhost:8080/"
        },
        "id": "XJL647LjeJDv",
        "outputId": "5c6f742e-69ab-4dd9-a019-a162d7994b74"
      },
      "execution_count": null,
      "outputs": [
        {
          "output_type": "stream",
          "name": "stdout",
          "text": [
            "[10, 2, 3]\n"
          ]
        }
      ]
    },
    {
      "cell_type": "code",
      "source": [
        "# Immutable\n",
        "b = (1, 2, 3)\n",
        "b[0] = 10\n",
        "print(b)"
      ],
      "metadata": {
        "colab": {
          "base_uri": "https://localhost:8080/",
          "height": 193
        },
        "id": "JMrEhppJeqXh",
        "outputId": "89fd84d7-12e1-45e9-e09c-eb0fdfabf289"
      },
      "execution_count": null,
      "outputs": [
        {
          "output_type": "error",
          "ename": "TypeError",
          "evalue": "'tuple' object does not support item assignment",
          "traceback": [
            "\u001b[0;31m---------------------------------------------------------------------------\u001b[0m",
            "\u001b[0;31mTypeError\u001b[0m                                 Traceback (most recent call last)",
            "\u001b[0;32m<ipython-input-7-100083a65715>\u001b[0m in \u001b[0;36m<cell line: 0>\u001b[0;34m()\u001b[0m\n\u001b[1;32m      1\u001b[0m \u001b[0;31m# Immutable\u001b[0m\u001b[0;34m\u001b[0m\u001b[0;34m\u001b[0m\u001b[0m\n\u001b[1;32m      2\u001b[0m \u001b[0mb\u001b[0m \u001b[0;34m=\u001b[0m \u001b[0;34m(\u001b[0m\u001b[0;36m1\u001b[0m\u001b[0;34m,\u001b[0m \u001b[0;36m2\u001b[0m\u001b[0;34m,\u001b[0m \u001b[0;36m3\u001b[0m\u001b[0;34m)\u001b[0m\u001b[0;34m\u001b[0m\u001b[0;34m\u001b[0m\u001b[0m\n\u001b[0;32m----> 3\u001b[0;31m \u001b[0mb\u001b[0m\u001b[0;34m[\u001b[0m\u001b[0;36m0\u001b[0m\u001b[0;34m]\u001b[0m \u001b[0;34m=\u001b[0m \u001b[0;36m10\u001b[0m\u001b[0;34m\u001b[0m\u001b[0;34m\u001b[0m\u001b[0m\n\u001b[0m\u001b[1;32m      4\u001b[0m \u001b[0mprint\u001b[0m\u001b[0;34m(\u001b[0m\u001b[0mb\u001b[0m\u001b[0;34m)\u001b[0m\u001b[0;34m\u001b[0m\u001b[0;34m\u001b[0m\u001b[0m\n",
            "\u001b[0;31mTypeError\u001b[0m: 'tuple' object does not support item assignment"
          ]
        }
      ]
    },
    {
      "cell_type": "markdown",
      "source": [
        "3. What are the main differences between lists and tuples in Python?\n",
        "\n",
        "→   Lists are mutable, tuples are immutable.\n",
        "\n",
        "Lists use more memory, tuples are more memory-efficient.\n",
        "\n",
        "Tuples are faster to access due to immutability.\n",
        "\n",
        "4. Describe how dictionaries store data.\n",
        "\n",
        "→ Dictionaries store data in key-value pairs using a hash table. Keys must be immutable and unique, and they map directly to their corresponding values.\n",
        "\n",
        "5. Why might you use a set instead of a list in Python?\n",
        "\n",
        "→ Use a set to store unique items and for fast membership testing (checking if an item exists). Sets automatically remove duplicates.\n",
        "\n",
        "6. What is a string in Python, and how is it different from a list?\n",
        "\n",
        "→ A string is an immutable sequence of characters. A list is a mutable sequence of any data types. You can modify a list, but not a string.\n",
        "\n",
        "7. How do tuples ensure data integrity in Python?\n",
        "\n",
        "→ Since tuples are immutable, their values can't be changed, ensuring that data remains constant and secure throughout the program.\n",
        "\n",
        "8. What is a hash table, and how does it relate to dictionaries in Python?\n",
        "\n",
        "→ A hash table is a data structure that maps keys to values using a hash function. Python dictionaries are implemented using hash tables.\n",
        "\n",
        "\n",
        "9. Can lists contain different data types in Python?\n",
        "→ Yes, Python lists can hold elements of mixed data types.\n",
        "\n",
        "\n"
      ],
      "metadata": {
        "id": "SfQHfjdxfV4V"
      }
    },
    {
      "cell_type": "code",
      "source": [
        "My_list = [1, \"hello\", 3.4, True]\n",
        "type(My_list)"
      ],
      "metadata": {
        "colab": {
          "base_uri": "https://localhost:8080/"
        },
        "id": "LVvJb9N3gsZR",
        "outputId": "1bcf8807-a238-4526-c2f3-792adf932883"
      },
      "execution_count": null,
      "outputs": [
        {
          "output_type": "execute_result",
          "data": {
            "text/plain": [
              "list"
            ]
          },
          "metadata": {},
          "execution_count": 8
        }
      ]
    },
    {
      "cell_type": "markdown",
      "source": [
        "10. Explain why strings are immutable in Python.\n",
        "→ Strings are immutable for performance and security reasons. This allows Python to safely reuse string objects and store them in a shared memory space.\n",
        "\n",
        "11. What advantages do dictionaries offer over lists for certain tasks?\n",
        "→ Dictionaries allow fast lookups by key (O(1) time complexity) and provide semantic labeling via keys, unlike lists that use numeric indices.\n",
        "\n",
        "12. Describe a scenario where using a tuple would be preferable over a list.\n",
        "→ When you want to store a fixed collection of items that shouldn’t change, like GPS coordinates (lat, long) or database record keys.\n",
        "\n",
        "13. How do sets handle duplicate values in Python?\n",
        "→ Sets automatically eliminate duplicates. Adding a duplicate item has no effect."
      ],
      "metadata": {
        "id": "OlzxEsF7iWYI"
      }
    },
    {
      "cell_type": "code",
      "source": [
        "s = {1, 2, 2, 3}\n",
        "print(s)"
      ],
      "metadata": {
        "colab": {
          "base_uri": "https://localhost:8080/"
        },
        "id": "2gaBnl3GiSVp",
        "outputId": "3e18767d-e620-488c-862b-028082c0469f"
      },
      "execution_count": null,
      "outputs": [
        {
          "output_type": "stream",
          "name": "stdout",
          "text": [
            "{1, 2, 3}\n"
          ]
        }
      ]
    },
    {
      "cell_type": "markdown",
      "source": [
        "14. How does the “in” keyword work differently for lists and dictionaries?\n",
        "→\n",
        "\n",
        "In lists: Checks if a value is present.\n",
        "\n",
        "In dictionaries: Checks if a key is present"
      ],
      "metadata": {
        "id": "7xRcC5JRi2Jg"
      }
    },
    {
      "cell_type": "code",
      "source": [
        "5 in [1, 2, 5]"
      ],
      "metadata": {
        "colab": {
          "base_uri": "https://localhost:8080/"
        },
        "id": "J4sJMujwi75C",
        "outputId": "392cb267-a54a-4f2c-caeb-d70342c88c1a"
      },
      "execution_count": null,
      "outputs": [
        {
          "output_type": "execute_result",
          "data": {
            "text/plain": [
              "True"
            ]
          },
          "metadata": {},
          "execution_count": 15
        }
      ]
    },
    {
      "cell_type": "code",
      "source": [
        "'key' in {'key': 'value'}"
      ],
      "metadata": {
        "colab": {
          "base_uri": "https://localhost:8080/"
        },
        "id": "8MvYd-wojgB2",
        "outputId": "ea500e47-c075-443f-a7b1-6c984381539b"
      },
      "execution_count": null,
      "outputs": [
        {
          "output_type": "execute_result",
          "data": {
            "text/plain": [
              "True"
            ]
          },
          "metadata": {},
          "execution_count": 16
        }
      ]
    },
    {
      "cell_type": "markdown",
      "source": [
        "15. Can you modify the elements of a tuple? Explain why or why not.\n",
        "→ No. Tuples are immutable, so their elements cannot be changed after creation.\n",
        "\n",
        "16. What is a nested dictionary, and give an example of its use case.\n",
        "→ A nested dictionary is a dictionary with another dictionary as a value."
      ],
      "metadata": {
        "id": "zkNSlnVOjqTn"
      }
    },
    {
      "cell_type": "code",
      "source": [
        "students = {\n",
        "  \"101\": {\"name\": \"Alice\", \"grade\": \"A\"},\n",
        "  \"102\": {\"name\": \"Bob\", \"grade\": \"B\"},\n",
        "}\n",
        "print(students[\"101\"][\"grade\"])"
      ],
      "metadata": {
        "colab": {
          "base_uri": "https://localhost:8080/"
        },
        "id": "zypAl7g4j5wg",
        "outputId": "8fab32ec-bfa3-42ff-ca5c-99063d6e1435"
      },
      "execution_count": null,
      "outputs": [
        {
          "output_type": "stream",
          "name": "stdout",
          "text": [
            "A\n"
          ]
        }
      ]
    },
    {
      "cell_type": "markdown",
      "source": [
        "Useful for structured data like databases or JSON.\n",
        "\n",
        "17. Describe the time complexity of accessing elements in a dictionary.\n",
        "→ Dictionary access is O(1) on average, due to the underlying hash table.\n",
        "\n",
        "18. In what situations are lists preferred over dictionaries?\n",
        "→ When you need:\n",
        "\n",
        "Ordered collection\n",
        "\n",
        "Fast iteration\n",
        "\n",
        "Indexed access by position\n",
        "\n",
        "19. Why are dictionaries considered unordered, and how does that affect data retrieval?\n",
        "→ Prior to Python 3.7, dictionaries did not guarantee order. In Python 3.7+, they maintain insertion order but are still optimized for key access, not order traversal.\n",
        "\n",
        "20. Explain the difference between a list and a dictionary in terms of data retrieval.\n",
        "→\n",
        "\n",
        "List: Retrieval by index (position), e.g., my_list[2]\n",
        "\n",
        "Dictionary: Retrieval by key, e.g., my_dict[\"name\"]"
      ],
      "metadata": {
        "id": "Zj5SC9knkCig"
      }
    },
    {
      "cell_type": "markdown",
      "source": [
        "\n",
        "1.  Write a code to create a string with your name and print it\n"
      ],
      "metadata": {
        "id": "Ql1RLUBf5ngE"
      }
    },
    {
      "cell_type": "code",
      "source": [
        "Name = \"Madhumita\"\n",
        "print(Name)"
      ],
      "metadata": {
        "colab": {
          "base_uri": "https://localhost:8080/"
        },
        "id": "h7KPS5wu54Yn",
        "outputId": "396b9bea-e29d-4df7-a436-a523a13907c6"
      },
      "execution_count": 1,
      "outputs": [
        {
          "output_type": "stream",
          "name": "stdout",
          "text": [
            "Madhumita\n"
          ]
        }
      ]
    },
    {
      "cell_type": "markdown",
      "source": [
        "2. Write a code to find the length of the string \"Hello World\""
      ],
      "metadata": {
        "id": "6Nn8_05i9m8B"
      }
    },
    {
      "cell_type": "code",
      "source": [
        "text = \"Hello World\"\n",
        "print(len(text))"
      ],
      "metadata": {
        "colab": {
          "base_uri": "https://localhost:8080/"
        },
        "id": "-Dj6NmHT9l8u",
        "outputId": "de74aaf7-f889-4aae-969d-e802d19a6592"
      },
      "execution_count": 2,
      "outputs": [
        {
          "output_type": "stream",
          "name": "stdout",
          "text": [
            "11\n"
          ]
        }
      ]
    },
    {
      "cell_type": "markdown",
      "source": [
        "3. Write a code to slice the first 3 characters from the string \"Python Programming\""
      ],
      "metadata": {
        "id": "7zJqVBmY-BJa"
      }
    },
    {
      "cell_type": "code",
      "source": [
        "text =\"Python Programming\"\n",
        "print(text[:3])"
      ],
      "metadata": {
        "colab": {
          "base_uri": "https://localhost:8080/"
        },
        "id": "eYu9rcmq9_qd",
        "outputId": "a226b113-77c7-4c32-cc10-246ba2b3f3a3"
      },
      "execution_count": 3,
      "outputs": [
        {
          "output_type": "stream",
          "name": "stdout",
          "text": [
            "Pyt\n"
          ]
        }
      ]
    },
    {
      "cell_type": "markdown",
      "source": [
        "4. Write a code to convert the string \"hello\" to uppercase"
      ],
      "metadata": {
        "id": "fGuMkEck-TOM"
      }
    },
    {
      "cell_type": "code",
      "source": [
        "text = \"hello\"\n",
        "print(text.upper())"
      ],
      "metadata": {
        "colab": {
          "base_uri": "https://localhost:8080/"
        },
        "id": "CMyalYHE-aZF",
        "outputId": "0c754770-7b52-400e-a5f3-62b894a98e26"
      },
      "execution_count": 4,
      "outputs": [
        {
          "output_type": "stream",
          "name": "stdout",
          "text": [
            "HELLO\n"
          ]
        }
      ]
    },
    {
      "cell_type": "markdown",
      "source": [
        " 5. Write a code to replace the word \"apple\" with \"orange\" in the string \"I like apple\""
      ],
      "metadata": {
        "id": "qnJDggrg-ovQ"
      }
    },
    {
      "cell_type": "code",
      "source": [
        "text = \"I like apple\"\n",
        "print(text.replace(\"apple\", \"orange\"))"
      ],
      "metadata": {
        "colab": {
          "base_uri": "https://localhost:8080/"
        },
        "id": "PJK7t1K1-sDX",
        "outputId": "3d260877-4efa-4828-8f52-953b675b6cfe"
      },
      "execution_count": 5,
      "outputs": [
        {
          "output_type": "stream",
          "name": "stdout",
          "text": [
            "I like orange\n"
          ]
        }
      ]
    },
    {
      "cell_type": "markdown",
      "source": [
        "6. Write a code to create a list with numbers 1 to 5 and print it"
      ],
      "metadata": {
        "id": "e43yE4jl-8QC"
      }
    },
    {
      "cell_type": "code",
      "source": [
        "numbers = [ 1 , 2 , 3 , 4 , 5]\n",
        "print(numbers)"
      ],
      "metadata": {
        "colab": {
          "base_uri": "https://localhost:8080/"
        },
        "id": "RT8tdosY--58",
        "outputId": "f77f1a69-ae3b-41ef-d6b9-6293bbceec59"
      },
      "execution_count": 7,
      "outputs": [
        {
          "output_type": "stream",
          "name": "stdout",
          "text": [
            "[1, 2, 3, 4, 5]\n"
          ]
        }
      ]
    },
    {
      "cell_type": "markdown",
      "source": [
        "7. Write a code to append the number 10 to the list [1, 2, 3, 4]"
      ],
      "metadata": {
        "id": "2cu7d155_QHk"
      }
    },
    {
      "cell_type": "code",
      "source": [
        "number = [1, 2, 3, 4]\n",
        "number.append(10)\n",
        "print(number)"
      ],
      "metadata": {
        "colab": {
          "base_uri": "https://localhost:8080/"
        },
        "id": "HkDR5JDl_ZIb",
        "outputId": "750c5459-1a14-40ec-cf4f-17600b5916df"
      },
      "execution_count": 10,
      "outputs": [
        {
          "output_type": "stream",
          "name": "stdout",
          "text": [
            "[1, 2, 3, 4, 10]\n"
          ]
        }
      ]
    },
    {
      "cell_type": "markdown",
      "source": [
        "8. Write a code to remove the number 3 from the list [1, 2, 3, 4, 5]"
      ],
      "metadata": {
        "id": "_fyqZ8oL_qU5"
      }
    },
    {
      "cell_type": "code",
      "source": [
        "number = [1, 2, 3, 4, 5]\n",
        "number.remove(3)\n",
        "print(number)"
      ],
      "metadata": {
        "colab": {
          "base_uri": "https://localhost:8080/"
        },
        "id": "uZiCAnaa_u--",
        "outputId": "a0b4012a-8dac-4a3e-82fa-ad7cdd682a6d"
      },
      "execution_count": 14,
      "outputs": [
        {
          "output_type": "stream",
          "name": "stdout",
          "text": [
            "[1, 2, 4, 5]\n"
          ]
        }
      ]
    },
    {
      "cell_type": "markdown",
      "source": [
        "9. Write a code to access the second element in the list ['a', 'b', 'c', 'd']\n"
      ],
      "metadata": {
        "id": "RJoktYbUANhg"
      }
    },
    {
      "cell_type": "code",
      "source": [
        "letters = ['a', 'b', 'c', 'd']\n",
        "print(letters[1])"
      ],
      "metadata": {
        "colab": {
          "base_uri": "https://localhost:8080/"
        },
        "id": "-GUJpYgWAP4x",
        "outputId": "bf917e0b-a148-4b5b-e56d-d4edaf4e7e89"
      },
      "execution_count": 16,
      "outputs": [
        {
          "output_type": "stream",
          "name": "stdout",
          "text": [
            "b\n"
          ]
        }
      ]
    },
    {
      "cell_type": "markdown",
      "source": [
        "10. Write a code to reverse the list [10, 20, 30, 40, 50]"
      ],
      "metadata": {
        "id": "0y9wPI1qAj9W"
      }
    },
    {
      "cell_type": "code",
      "source": [
        "numbers = [10, 20, 30, 40, 50]\n",
        "print(numbers[::-1])"
      ],
      "metadata": {
        "colab": {
          "base_uri": "https://localhost:8080/"
        },
        "id": "RA4UQb_pAl8d",
        "outputId": "9d26c89e-4224-4b62-a02d-ce686e173cee"
      },
      "execution_count": 18,
      "outputs": [
        {
          "output_type": "stream",
          "name": "stdout",
          "text": [
            "[50, 40, 30, 20, 10]\n"
          ]
        }
      ]
    },
    {
      "cell_type": "markdown",
      "source": [
        "11. Create a tuple with the elements 100, 200, 300 and print it"
      ],
      "metadata": {
        "id": "ccKfwI5nBRq5"
      }
    },
    {
      "cell_type": "code",
      "source": [
        "tuple = (100, 200, 300)\n",
        "print(tuple)"
      ],
      "metadata": {
        "colab": {
          "base_uri": "https://localhost:8080/"
        },
        "id": "Tpnp0KgNBS0x",
        "outputId": "1776831f-cde0-4776-9931-6a87b2596804"
      },
      "execution_count": 19,
      "outputs": [
        {
          "output_type": "stream",
          "name": "stdout",
          "text": [
            "(100, 200, 300)\n"
          ]
        }
      ]
    },
    {
      "cell_type": "markdown",
      "source": [
        "12. Access the second-to-last element of the tuple ('red', 'green', 'blue', 'yellow')\n"
      ],
      "metadata": {
        "id": "bfUXQnU3Btmo"
      }
    },
    {
      "cell_type": "code",
      "source": [
        "tuple = ('red', 'green', 'blue', 'yellow')\n",
        "print(tuple[-2])"
      ],
      "metadata": {
        "colab": {
          "base_uri": "https://localhost:8080/"
        },
        "id": "5KF5ekB9ByZs",
        "outputId": "2999fe08-d959-4515-a052-99e556109a0d"
      },
      "execution_count": 21,
      "outputs": [
        {
          "output_type": "stream",
          "name": "stdout",
          "text": [
            "blue\n"
          ]
        }
      ]
    },
    {
      "cell_type": "markdown",
      "source": [
        "13. Find the minimum number in the tuple (10, 20, 5, 15)"
      ],
      "metadata": {
        "id": "dL1mHt2qCAwo"
      }
    },
    {
      "cell_type": "code",
      "source": [
        "number = (10, 20, 5, 15)\n",
        "print(min(number))"
      ],
      "metadata": {
        "colab": {
          "base_uri": "https://localhost:8080/"
        },
        "id": "xsRzPm30CBf2",
        "outputId": "97a02c0e-9023-44fe-eaf6-bac50c2f0a65"
      },
      "execution_count": 22,
      "outputs": [
        {
          "output_type": "stream",
          "name": "stdout",
          "text": [
            "5\n"
          ]
        }
      ]
    },
    {
      "cell_type": "markdown",
      "source": [
        "14. Find the index of the element \"cat\" in the tuple ('dog', 'cat', 'rabbit')"
      ],
      "metadata": {
        "id": "iW3GJBQbCP56"
      }
    },
    {
      "cell_type": "code",
      "source": [
        "animals = ('dog', 'cat', 'rabbit')\n",
        "print(animals.index(\"cat\"))"
      ],
      "metadata": {
        "colab": {
          "base_uri": "https://localhost:8080/"
        },
        "id": "hqoKL1gFCS20",
        "outputId": "e6f1bc43-94ec-4f81-e241-ee8d3fbe8635"
      },
      "execution_count": 23,
      "outputs": [
        {
          "output_type": "stream",
          "name": "stdout",
          "text": [
            "1\n"
          ]
        }
      ]
    },
    {
      "cell_type": "markdown",
      "source": [
        "15. Create a tuple with 3 fruits and check if \"kiwi\" is in it"
      ],
      "metadata": {
        "id": "Llg4pv8-Cdih"
      }
    },
    {
      "cell_type": "code",
      "source": [
        "fruit = (\"apple\", \"banana\", \"orange\")\n",
        "print(\"kiwi\" in fruit)"
      ],
      "metadata": {
        "colab": {
          "base_uri": "https://localhost:8080/"
        },
        "id": "mm1Q3Eb2Cfb8",
        "outputId": "ca6ad02f-8258-408c-d8b5-e92db99a2858"
      },
      "execution_count": 24,
      "outputs": [
        {
          "output_type": "stream",
          "name": "stdout",
          "text": [
            "False\n"
          ]
        }
      ]
    },
    {
      "cell_type": "markdown",
      "source": [
        "16. Create a set with elements 'a', 'b', 'c' and print it"
      ],
      "metadata": {
        "id": "i7zbgIgJFFgV"
      }
    },
    {
      "cell_type": "code",
      "source": [
        "my_set = {'a', 'b', 'c'}\n",
        "print(my_set)"
      ],
      "metadata": {
        "colab": {
          "base_uri": "https://localhost:8080/"
        },
        "id": "vEqBrUijFGcx",
        "outputId": "f662624e-f30c-46ed-a4cc-37c54bd44826"
      },
      "execution_count": 27,
      "outputs": [
        {
          "output_type": "stream",
          "name": "stdout",
          "text": [
            "{'c', 'b', 'a'}\n"
          ]
        }
      ]
    },
    {
      "cell_type": "markdown",
      "source": [
        "17. Clear all elements from the set {1, 2, 3, 4, 5}"
      ],
      "metadata": {
        "id": "60j_GrHCHcsQ"
      }
    },
    {
      "cell_type": "code",
      "source": [
        "my_set = {1, 2, 3, 4, 5}\n",
        "my_set.clear()\n",
        "print(my_set)"
      ],
      "metadata": {
        "colab": {
          "base_uri": "https://localhost:8080/"
        },
        "id": "__MGtGcmHeny",
        "outputId": "2fcc3d1d-9d9e-443d-f68d-2d52c359382a"
      },
      "execution_count": 28,
      "outputs": [
        {
          "output_type": "stream",
          "name": "stdout",
          "text": [
            "set()\n"
          ]
        }
      ]
    },
    {
      "cell_type": "markdown",
      "source": [
        "18. Remove the element 4 from the set {1, 2, 3, 4}"
      ],
      "metadata": {
        "id": "8HjuHYGpH2cX"
      }
    },
    {
      "cell_type": "code",
      "source": [
        "my_set = {1, 2, 3, 4}\n",
        "my_set.remove(4)\n",
        "print(my_set)"
      ],
      "metadata": {
        "colab": {
          "base_uri": "https://localhost:8080/"
        },
        "id": "_zr98lCXH3Lp",
        "outputId": "396f15f6-e9d6-4361-b1aa-60df5f31f197"
      },
      "execution_count": 29,
      "outputs": [
        {
          "output_type": "stream",
          "name": "stdout",
          "text": [
            "{1, 2, 3}\n"
          ]
        }
      ]
    },
    {
      "cell_type": "markdown",
      "source": [
        "19. Find the union of sets {1, 2, 3} and {3, 4, 5}"
      ],
      "metadata": {
        "id": "_aePdINVH9Zl"
      }
    },
    {
      "cell_type": "code",
      "source": [
        "a = {1, 2, 3}\n",
        "b = {3, 4, 5}\n",
        "print(a.union(b))"
      ],
      "metadata": {
        "colab": {
          "base_uri": "https://localhost:8080/"
        },
        "id": "-Wtp1nosH8-h",
        "outputId": "d3164cf3-5976-4308-c251-b5a1b8cafe13"
      },
      "execution_count": 30,
      "outputs": [
        {
          "output_type": "stream",
          "name": "stdout",
          "text": [
            "{1, 2, 3, 4, 5}\n"
          ]
        }
      ]
    },
    {
      "cell_type": "markdown",
      "source": [
        "20. Find the intersection of sets {1, 2, 3} and {2, 3, 4}"
      ],
      "metadata": {
        "id": "-EGDecRnIGtW"
      }
    },
    {
      "cell_type": "code",
      "source": [
        "a = {1, 2, 3}\n",
        "b = {2, 3, 4}\n",
        "print(a.intersection(b))"
      ],
      "metadata": {
        "colab": {
          "base_uri": "https://localhost:8080/"
        },
        "id": "vkLWPhzXIHcP",
        "outputId": "6ad4ad7b-5be3-4961-a775-b3ee0231aee5"
      },
      "execution_count": 31,
      "outputs": [
        {
          "output_type": "stream",
          "name": "stdout",
          "text": [
            "{2, 3}\n"
          ]
        }
      ]
    },
    {
      "cell_type": "markdown",
      "source": [
        "21. Create a dictionary with keys \"name\", \"age\", and \"city\" and print it"
      ],
      "metadata": {
        "id": "6T_oUajOISD5"
      }
    },
    {
      "cell_type": "code",
      "source": [
        "person = {\n",
        "  \"name\": \"Madhumita\",\n",
        "  \"age\": 21,\n",
        "  \"city\": \"pune\"\n",
        "}\n",
        "print(person)"
      ],
      "metadata": {
        "colab": {
          "base_uri": "https://localhost:8080/"
        },
        "id": "HUEvoilvITLN",
        "outputId": "6f9ef7fe-1abb-4cc2-f8c0-797726c2510c"
      },
      "execution_count": 32,
      "outputs": [
        {
          "output_type": "stream",
          "name": "stdout",
          "text": [
            "{'name': 'Madhumita', 'age': 21, 'city': 'pune'}\n"
          ]
        }
      ]
    },
    {
      "cell_type": "markdown",
      "source": [
        "22. Add \"country\": \"USA\" to {'name': 'John', 'age': 25}"
      ],
      "metadata": {
        "id": "Mun3-mnQIpR5"
      }
    },
    {
      "cell_type": "code",
      "source": [
        "person = {'name': 'John', 'age': 25}\n",
        "person[\"country\"] = \"USA\"\n",
        "print(person)"
      ],
      "metadata": {
        "colab": {
          "base_uri": "https://localhost:8080/"
        },
        "id": "6UoEmQ09Iqgl",
        "outputId": "378ff36f-99f5-4be9-dae9-f09574931c6a"
      },
      "execution_count": 33,
      "outputs": [
        {
          "output_type": "stream",
          "name": "stdout",
          "text": [
            "{'name': 'John', 'age': 25, 'country': 'USA'}\n"
          ]
        }
      ]
    },
    {
      "cell_type": "markdown",
      "source": [
        "23. Access the value of \"name\" in {'name': 'Alice', 'age': 30}"
      ],
      "metadata": {
        "id": "_fsecq-zI4pn"
      }
    },
    {
      "cell_type": "code",
      "source": [
        "person = {'name': 'Alice', 'age': 30}\n",
        "print(person[\"name\"])"
      ],
      "metadata": {
        "colab": {
          "base_uri": "https://localhost:8080/"
        },
        "id": "sVk9PgWmI52q",
        "outputId": "50190ff1-00a3-422b-e813-b60c56cabd99"
      },
      "execution_count": 34,
      "outputs": [
        {
          "output_type": "stream",
          "name": "stdout",
          "text": [
            "Alice\n"
          ]
        }
      ]
    },
    {
      "cell_type": "markdown",
      "source": [
        "24. Remove the key \"age\" from {'name': 'Bob', 'age': 22, 'city': 'New York'}"
      ],
      "metadata": {
        "id": "qpFyvCL6JFm7"
      }
    },
    {
      "cell_type": "code",
      "source": [
        "person = {'name': 'Bob', 'age': 22, 'city': 'New York'}\n",
        "person.pop(\"age\")\n",
        "print(person)"
      ],
      "metadata": {
        "colab": {
          "base_uri": "https://localhost:8080/"
        },
        "id": "aecffS5CJGUN",
        "outputId": "72c78c13-23b1-4484-cfd2-41bda90b5220"
      },
      "execution_count": 35,
      "outputs": [
        {
          "output_type": "stream",
          "name": "stdout",
          "text": [
            "{'name': 'Bob', 'city': 'New York'}\n"
          ]
        }
      ]
    },
    {
      "cell_type": "markdown",
      "source": [
        "25. Check if \"city\" exists in {'name': 'Alice', 'city': 'Paris'}"
      ],
      "metadata": {
        "id": "KMoj7AOkJOUh"
      }
    },
    {
      "cell_type": "code",
      "source": [
        "person = {'name': 'Alice', 'city': 'Paris'}\n",
        "print(\"city\" in person)"
      ],
      "metadata": {
        "colab": {
          "base_uri": "https://localhost:8080/"
        },
        "id": "IQWwQi1MJRDq",
        "outputId": "c2f4023c-2840-439b-beb9-ec4febd8659d"
      },
      "execution_count": 36,
      "outputs": [
        {
          "output_type": "stream",
          "name": "stdout",
          "text": [
            "True\n"
          ]
        }
      ]
    },
    {
      "cell_type": "markdown",
      "source": [
        "26. Create and print a list, a tuple, and a dictionary"
      ],
      "metadata": {
        "id": "u9-6GIohJZDS"
      }
    },
    {
      "cell_type": "code",
      "source": [
        "my_list = [1, 2, 3]\n",
        "my_tuple = ('a', 'b', 'c')\n",
        "my_dict = {\"key1\": \"value1\", \"key2\": \"value2\"}\n",
        "print(my_list, my_tuple, my_dict)"
      ],
      "metadata": {
        "colab": {
          "base_uri": "https://localhost:8080/"
        },
        "id": "FEF4XM_GJZig",
        "outputId": "5d026841-e8d9-4d35-ac46-73f6d212e5c4"
      },
      "execution_count": 37,
      "outputs": [
        {
          "output_type": "stream",
          "name": "stdout",
          "text": [
            "[1, 2, 3] ('a', 'b', 'c') {'key1': 'value1', 'key2': 'value2'}\n"
          ]
        }
      ]
    },
    {
      "cell_type": "markdown",
      "source": [
        "27. Create a list of 5 random numbers between 1 and 100, sort, and print\n"
      ],
      "metadata": {
        "id": "cb9HEMJUJgLU"
      }
    },
    {
      "cell_type": "code",
      "source": [
        "import random\n",
        "numbers = random.sample(range(1, 101), 5)\n",
        "numbers.sort()\n",
        "print(numbers)"
      ],
      "metadata": {
        "colab": {
          "base_uri": "https://localhost:8080/"
        },
        "id": "L_d7c-07JiGp",
        "outputId": "0438ede2-7919-417c-8788-828e2d0f9404"
      },
      "execution_count": 38,
      "outputs": [
        {
          "output_type": "stream",
          "name": "stdout",
          "text": [
            "[16, 18, 53, 73, 94]\n"
          ]
        }
      ]
    },
    {
      "cell_type": "markdown",
      "source": [
        "28. Create a list with strings and print the element at index 3\n"
      ],
      "metadata": {
        "id": "TftwO6PKJq4G"
      }
    },
    {
      "cell_type": "code",
      "source": [
        "words = [\"one\", \"two\", \"three\", \"four\", \"five\"]\n",
        "print(words[3])"
      ],
      "metadata": {
        "colab": {
          "base_uri": "https://localhost:8080/"
        },
        "id": "M0b4wsmiJthw",
        "outputId": "eee1585e-eabc-4693-f14c-8a36bc72f778"
      },
      "execution_count": 39,
      "outputs": [
        {
          "output_type": "stream",
          "name": "stdout",
          "text": [
            "four\n"
          ]
        }
      ]
    },
    {
      "cell_type": "markdown",
      "source": [
        "29. Combine two dictionaries and print the result"
      ],
      "metadata": {
        "id": "HRMRBEeXJzKC"
      }
    },
    {
      "cell_type": "code",
      "source": [
        "dict1 = {\"a\": 1, \"b\": 2}\n",
        "dict2 = {\"c\": 3, \"d\": 4}\n",
        "combined = {**dict1, **dict2}\n",
        "print(combined)"
      ],
      "metadata": {
        "colab": {
          "base_uri": "https://localhost:8080/"
        },
        "id": "8aS1gmHaJz1_",
        "outputId": "1bbee591-30ac-4ec2-f638-9451df691243"
      },
      "execution_count": 40,
      "outputs": [
        {
          "output_type": "stream",
          "name": "stdout",
          "text": [
            "{'a': 1, 'b': 2, 'c': 3, 'd': 4}\n"
          ]
        }
      ]
    },
    {
      "cell_type": "markdown",
      "source": [
        "30. Convert a list of strings into a set"
      ],
      "metadata": {
        "id": "awyOSgo7J4qt"
      }
    },
    {
      "cell_type": "code",
      "source": [
        "words = [\"apple\", \"banana\", \"cherry\"]\n",
        "word_set = set(words)\n",
        "print(word_set)"
      ],
      "metadata": {
        "colab": {
          "base_uri": "https://localhost:8080/"
        },
        "id": "NFGAkapCJ9Gw",
        "outputId": "5cc69378-40a1-4e61-f729-284304193cc1"
      },
      "execution_count": 41,
      "outputs": [
        {
          "output_type": "stream",
          "name": "stdout",
          "text": [
            "{'cherry', 'apple', 'banana'}\n"
          ]
        }
      ]
    },
    {
      "cell_type": "markdown",
      "source": [],
      "metadata": {
        "id": "jtZNh0Yjiyes"
      }
    },
    {
      "cell_type": "markdown",
      "source": [],
      "metadata": {
        "id": "Zah-q0iXh1r9"
      }
    },
    {
      "cell_type": "markdown",
      "source": [],
      "metadata": {
        "id": "K90D9wVChVX8"
      }
    }
  ]
}